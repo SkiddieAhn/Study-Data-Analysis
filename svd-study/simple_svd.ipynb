{
 "cells": [
  {
   "cell_type": "markdown",
   "metadata": {},
   "source": [
    "행렬을 이용한 SVD 기초"
   ]
  },
  {
   "cell_type": "code",
   "execution_count": 31,
   "metadata": {},
   "outputs": [],
   "source": [
    "import numpy as np\n",
    "import matplotlib.pyplot as plt"
   ]
  },
  {
   "cell_type": "code",
   "execution_count": 47,
   "metadata": {},
   "outputs": [
    {
     "name": "stdout",
     "output_type": "stream",
     "text": [
      "[[ 1  2  3  4  5  6]\n",
      " [ 4  5  6  7  8  9]\n",
      " [ 7  8  9 10 11 12]\n",
      " [10 11 12 13 14 15]\n",
      " [13 14 15 16 17 18]]\n",
      "(m:5, n:6)\n"
     ]
    }
   ],
   "source": [
    "# 1. Set Matrix\n",
    "test=np.array([[1,2,3,4,5,6],\n",
    "               [4,5,6,7,8,9],\n",
    "               [7,8,9,10,11,12],\n",
    "               [10,11,12,13,14,15],\n",
    "               [13,14,15,16,17,18]]) # <mxn> \n",
    "print(test)\n",
    "m=test.shape[0]\n",
    "n=test.shape[1]\n",
    "print('(m:{}, n:{})'.format(m,n))"
   ]
  },
  {
   "cell_type": "code",
   "execution_count": 46,
   "metadata": {},
   "outputs": [
    {
     "name": "stdout",
     "output_type": "stream",
     "text": [
      "U: (5, 5)\n",
      "S: (5, 6)\n",
      "V: (6, 6)\n"
     ]
    },
    {
     "data": {
      "text/plain": [
       "[<matplotlib.lines.Line2D at 0x24f351920b8>]"
      ]
     },
     "execution_count": 46,
     "metadata": {},
     "output_type": "execute_result"
    },
    {
     "data": {
      "image/png": "[encoded data removed]",
      "text/plain": [
       "<Figure size 432x288 with 1 Axes>"
      ]
     },
     "metadata": {
      "needs_background": "light"
     },
     "output_type": "display_data"
    }
   ],
   "source": [
    "# 2. SVD \n",
    "U,Sigma,VT = np.linalg.svd(test)\n",
    "\n",
    "# set S, V\n",
    "S=np.eye(N=m, M=n,k=0)\n",
    "np.fill_diagonal (S,Sigma)\n",
    "V=VT.T\n",
    "\n",
    "# check\n",
    "print('U:',U.shape) # left singular vectors (u1 | u2 | u3 | ....) <mxm> \n",
    "print('S:',S.shape) # singular values (diagonal -> σ1, σ2, σ3, ...) <mxn> \n",
    "print('V:',V.shape) # right singular vectors (v1 | v2 | v3 | ....) <nxn> \n",
    "plt.plot([i for i in range(1,min(m,n)+1)],Sigma)"
   ]
  },
  {
   "cell_type": "markdown",
   "metadata": {},
   "source": [
    "위 그래프를 보면 2개의 특이값을 이용해서 데이터를 충분히 표현할 수 있음을 짐작 가능함"
   ]
  },
  {
   "cell_type": "markdown",
   "metadata": {},
   "source": [
    "FULL SVD와 Truncated SVD"
   ]
  },
  {
   "cell_type": "markdown",
   "metadata": {},
   "source": [
    "![Image of Yaktocat](https://velog.velcdn.com/images/amin/post/649fdfc1-5048-453f-8da8-b5c9169113a3/image.png)"
   ]
  },
  {
   "cell_type": "markdown",
   "metadata": {},
   "source": [
    "특이값 전체를 이용해서 재구축"
   ]
  },
  {
   "cell_type": "code",
   "execution_count": 15,
   "metadata": {},
   "outputs": [
    {
     "name": "stdout",
     "output_type": "stream",
     "text": [
      "[[ 1.  2.  3.  4.  5.  6.]\n",
      " [ 4.  5.  6.  7.  8.  9.]\n",
      " [ 7.  8.  9. 10. 11. 12.]\n",
      " [10. 11. 12. 13. 14. 15.]\n",
      " [13. 14. 15. 16. 17. 18.]]\n"
     ]
    }
   ],
   "source": [
    "# 3-1. Reconstruction (Full SVD)\n",
    "Y = np.dot(U,S)\n",
    "R = np.dot(Y,V.T)\n",
    "print(R)"
   ]
  },
  {
   "cell_type": "markdown",
   "metadata": {},
   "source": [
    "특이값 2개를 이용해서 재구축"
   ]
  },
  {
   "cell_type": "code",
   "execution_count": 45,
   "metadata": {},
   "outputs": [
    {
     "name": "stdout",
     "output_type": "stream",
     "text": [
      "U[:,:t]: (5, 2)\n",
      "S[:t,:t]: (2, 2)\n",
      "V.T[:t,:]: (2, 6)\n",
      "\n",
      " [[ 1.  2.  3.  4.  5.  6.]\n",
      " [ 4.  5.  6.  7.  8.  9.]\n",
      " [ 7.  8.  9. 10. 11. 12.]\n",
      " [10. 11. 12. 13. 14. 15.]\n",
      " [13. 14. 15. 16. 17. 18.]]\n"
     ]
    }
   ],
   "source": [
    "# 3-2. Reconstruction (Truncated SVD)\n",
    "t=2\n",
    "Y = np.dot(U[:,:t],S[:t,:t])\n",
    "R = np.dot(Y,V.T[:t,:])\n",
    "\n",
    "# check\n",
    "print('U[:,:t]:',U[:,:t].shape) # <mxt> \n",
    "print('S[:t,:t]:',S[:t,:t].shape) # <txt> \n",
    "print('V.T[:t,:]:',V.T[:t,:].shape) # <txn> \n",
    "print('\\n',R)"
   ]
  },
  {
   "cell_type": "markdown",
   "metadata": {},
   "source": [
    "--> 특이값을 2개 이용하면 원본과 차이가 없음"
   ]
  },
  {
   "cell_type": "markdown",
   "metadata": {},
   "source": [
    "특이값 1개를 이용해서 재구축"
   ]
  },
  {
   "cell_type": "code",
   "execution_count": 48,
   "metadata": {},
   "outputs": [
    {
     "name": "stdout",
     "output_type": "stream",
     "text": [
      "U[:,:t]: (5, 1)\n",
      "S[:t,:t]: (1, 1)\n",
      "V.T[:t,:]: (1, 6)\n",
      "\n",
      " [[ 2.8642519   3.18808603  3.51192015  3.83575427  4.1595884   4.48342252]\n",
      " [ 5.15132777  5.73374013  6.31615249  6.89856485  7.48097722  8.06338958]\n",
      " [ 7.43840363  8.27939423  9.12038483  9.96137543 10.80236603 11.64335663]\n",
      " [ 9.7254795  10.82504834 11.92461717 13.02418601 14.12375485 15.22332369]\n",
      " [12.01255536 13.37070244 14.72884951 16.08699659 17.44514367 18.80329074]]\n"
     ]
    }
   ],
   "source": [
    "# 3-2. Reconstruction (Truncated SVD)\n",
    "t=1\n",
    "Y = np.dot(U[:,:t],S[:t,:t])\n",
    "R = np.dot(Y,V.T[:t,:])\n",
    "\n",
    "# check\n",
    "print('U[:,:t]:',U[:,:t].shape) # <mxt> \n",
    "print('S[:t,:t]:',S[:t,:t].shape) # <txt> \n",
    "print('V.T[:t,:]:',V.T[:t,:].shape) # <txn> \n",
    "print('\\n',R)"
   ]
  },
  {
   "cell_type": "markdown",
   "metadata": {},
   "source": [
    "--> 특이값을 1개만 이용하면 원본과 비슷하긴 하나 차이가 발생함"
   ]
  }
 ],
 "metadata": {
  "kernelspec": {
   "display_name": "Python 3.7.2 64-bit",
   "language": "python",
   "name": "python3"
  },
  "language_info": {
   "codemirror_mode": {
    "name": "ipython",
    "version": 3
   },
   "file_extension": ".py",
   "mimetype": "text/x-python",
   "name": "python",
   "nbconvert_exporter": "python",
   "pygments_lexer": "ipython3",
   "version": "3.7.2"
  },
  "orig_nbformat": 4,
  "vscode": {
   "interpreter": {
    "hash": "fbf5b09dcf9611edc59122919205caa52015032ff6213bd994a7dbcfc15e273a"
   }
  }
 },
 "nbformat": 4,
 "nbformat_minor": 2
}
