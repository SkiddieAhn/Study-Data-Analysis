{
 "cells": [
  {
   "cell_type": "markdown",
   "id": "5f2dde49",
   "metadata": {},
   "source": [
    "MNIST 이미지 압축 예제"
   ]
  },
  {
   "cell_type": "code",
   "execution_count": 48,
   "id": "089abf65",
   "metadata": {},
   "outputs": [],
   "source": [
    "import sys, os\n",
    "sys.path.append(os.pardir)\n",
    "import numpy as np\n",
    "import matplotlib.pyplot as plt\n",
    "from dataset.mnist import load_mnist"
   ]
  },
  {
   "cell_type": "code",
   "execution_count": 49,
   "id": "ed8039fe",
   "metadata": {},
   "outputs": [],
   "source": [
    "(x_train, t_train), (x_test, t_test) = load_mnist(normalize=True, one_hot_label=False)"
   ]
  },
  {
   "cell_type": "code",
   "execution_count": 75,
   "id": "1066a650",
   "metadata": {},
   "outputs": [],
   "source": [
    "X = x_train[0] # 5\n",
    "X = X.reshape(28,28)"
   ]
  },
  {
   "cell_type": "markdown",
   "id": "14cb61ff",
   "metadata": {},
   "source": [
    "[ TIP ]  \n",
    "  \n",
    "공분산 행렬의 고유값과 고유벡터를 이용하기 위해 데이터 X를 평균 mu로 빼고 SVD를 계산하는 것이 일반적이다."
   ]
  },
  {
   "cell_type": "code",
   "execution_count": 155,
   "id": "96a3abef",
   "metadata": {},
   "outputs": [
    {
     "name": "stdout",
     "output_type": "stream",
     "text": [
      "(m:28, n:28)\n"
     ]
    }
   ],
   "source": [
    "# 1. Set Input\n",
    "mu = np.mean(X,axis=0)\n",
    "X_tilde = X-mu\n",
    "m=X_tilde.shape[0]\n",
    "n=X_tilde.shape[1]\n",
    "print('(m:{}, n:{})'.format(m,n))"
   ]
  },
  {
   "cell_type": "code",
   "execution_count": 154,
   "id": "40086283",
   "metadata": {},
   "outputs": [
    {
     "name": "stdout",
     "output_type": "stream",
     "text": [
      "U: (28, 28)\n",
      "S: (28, 28)\n",
      "V: (28, 28)\n"
     ]
    },
    {
     "data": {
      "text/plain": [
       "[<matplotlib.lines.Line2D at 0x2e1805fdb38>]"
      ]
     },
     "execution_count": 154,
     "metadata": {},
     "output_type": "execute_result"
    },
    {
     "data": {
      "image/png": "[encoded data removed]",
      "text/plain": [
       "<Figure size 432x288 with 1 Axes>"
      ]
     },
     "metadata": {
      "needs_background": "light"
     },
     "output_type": "display_data"
    }
   ],
   "source": [
    "# 2. SVD \n",
    "U,Sigma,VT = np.linalg.svd(X_tilde)\n",
    "\n",
    "# set S, V\n",
    "S=np.eye(N=m, M=n,k=0)\n",
    "np.fill_diagonal (S,Sigma)\n",
    "V=VT.T\n",
    "\n",
    "# check\n",
    "print('U:',U.shape) # left singular vectors (u1 | u2 | u3 | ....) <mxm> \n",
    "print('S:',S.shape) # singular values (diagonal -> σ1, σ2, σ3, ...) <mxn> \n",
    "print('V:',V.shape) # right singular vectors (v1 | v2 | v3 | ....) <nxn> \n",
    "plt.plot([i for i in range(1,min(m,n)+1)],Sigma)"
   ]
  },
  {
   "cell_type": "markdown",
   "id": "065cc514",
   "metadata": {},
   "source": [
    "위 그래프를 보면 10개의 특이값을 이용해서 데이터를 충분히 표현할 수 있음을 짐작 가능함"
   ]
  },
  {
   "cell_type": "markdown",
   "id": "cce84d51",
   "metadata": {},
   "source": [
    "특이값 전체를 이용해서 재구축"
   ]
  },
  {
   "cell_type": "code",
   "execution_count": 151,
   "id": "284828d0",
   "metadata": {},
   "outputs": [
    {
     "data": {
      "image/png": "[encoded data removed]",
      "text/plain": [
       "<Figure size 432x288 with 1 Axes>"
      ]
     },
     "metadata": {
      "needs_background": "light"
     },
     "output_type": "display_data"
    }
   ],
   "source": [
    "# 3-1. Reconstruction (Full SVD)\n",
    "Y = np.dot(U,S)\n",
    "R = np.dot(Y,V.T)\n",
    "R = R+mu\n",
    "\n",
    "# show\n",
    "plt.imshow(R,cmap='gray')\n",
    "plt.axis('off')\n",
    "plt.savefig('original.jpg')"
   ]
  },
  {
   "cell_type": "markdown",
   "id": "df16dfca",
   "metadata": {},
   "source": [
    "특이값 10개를 이용해서 재구축 (영상 압축)"
   ]
  },
  {
   "cell_type": "code",
   "execution_count": 153,
   "id": "d4b7b273",
   "metadata": {},
   "outputs": [
    {
     "name": "stdout",
     "output_type": "stream",
     "text": [
      "U[:,:t]: (28, 10)\n",
      "S[:t,:t]: (10, 10)\n",
      "V.T[:t,:]: (10, 28)\n"
     ]
    },
    {
     "data": {
      "image/png": "[encoded data removed]",
      "text/plain": [
       "<Figure size 432x288 with 1 Axes>"
      ]
     },
     "metadata": {
      "needs_background": "light"
     },
     "output_type": "display_data"
    }
   ],
   "source": [
    "# 3-2. Reconstruction (Truncated SVD)\n",
    "t=10\n",
    "Y = np.dot(U[:,:t],S[:t,:t])\n",
    "R = np.dot(Y,V.T[:t,:])\n",
    "R = R+mu\n",
    "\n",
    "# check\n",
    "print('U[:,:t]:',U[:,:t].shape) # <mxt> \n",
    "print('S[:t,:t]:',S[:t,:t].shape) # <txt> \n",
    "print('V.T[:t,:]:',V.T[:t,:].shape) # <txn> \n",
    "\n",
    "# show\n",
    "plt.imshow(R,cmap='gray')\n",
    "plt.axis('off')\n",
    "plt.savefig('zip.jpg')"
   ]
  }
 ],
 "metadata": {
  "kernelspec": {
   "display_name": "Python 3.7.2 64-bit",
   "language": "python",
   "name": "python3"
  },
  "language_info": {
   "codemirror_mode": {
    "name": "ipython",
    "version": 3
   },
   "file_extension": ".py",
   "mimetype": "text/x-python",
   "name": "python",
   "nbconvert_exporter": "python",
   "pygments_lexer": "ipython3",
   "version": "3.7.2"
  },
  "vscode": {
   "interpreter": {
    "hash": "fbf5b09dcf9611edc59122919205caa52015032ff6213bd994a7dbcfc15e273a"
   }
  }
 },
 "nbformat": 4,
 "nbformat_minor": 5
}
